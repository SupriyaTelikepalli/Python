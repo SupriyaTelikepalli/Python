{
 "cells": [
  {
   "cell_type": "code",
   "execution_count": 5,
   "id": "57dac461-6ace-49a3-b51b-ab242d67c528",
   "metadata": {},
   "outputs": [
    {
     "name": "stdin",
     "output_type": "stream",
     "text": [
      "Do You want to play again? y = yes, n = no \n",
      " y\n"
     ]
    },
    {
     "name": "stdout",
     "output_type": "stream",
     "text": [
      "Length of word is: 9\n"
     ]
    },
    {
     "name": "stdin",
     "output_type": "stream",
     "text": [
      "Enter a letter to guess the word:  a\n"
     ]
    },
    {
     "name": "stdout",
     "output_type": "stream",
     "text": [
      "You have 7 chances left.\n",
      "Current word: ___A____A\n"
     ]
    },
    {
     "name": "stdin",
     "output_type": "stream",
     "text": [
      "Enter a letter to guess the word:  c\n"
     ]
    },
    {
     "name": "stdout",
     "output_type": "stream",
     "text": [
      "Wrong Guess: ['C']\n",
      "You have 6 chances left.\n",
      "Current word: ___A____A\n"
     ]
    },
    {
     "name": "stdin",
     "output_type": "stream",
     "text": [
      "Enter a letter to guess the word:  m\n"
     ]
    },
    {
     "name": "stdout",
     "output_type": "stream",
     "text": [
      "You have 5 chances left.\n",
      "Current word: M__A____A\n"
     ]
    },
    {
     "name": "stdin",
     "output_type": "stream",
     "text": [
      "Enter a letter to guess the word:  o\n"
     ]
    },
    {
     "name": "stdout",
     "output_type": "stream",
     "text": [
      "You have 4 chances left.\n",
      "Current word: MO_A____A\n"
     ]
    },
    {
     "name": "stdin",
     "output_type": "stream",
     "text": [
      "Enter a letter to guess the word:  r\n"
     ]
    },
    {
     "name": "stdout",
     "output_type": "stream",
     "text": [
      "You have 3 chances left.\n",
      "Current word: MO_AR___A\n"
     ]
    },
    {
     "name": "stdin",
     "output_type": "stream",
     "text": [
      "Enter a letter to guess the word:  z\n"
     ]
    },
    {
     "name": "stdout",
     "output_type": "stream",
     "text": [
      "You have 2 chances left.\n",
      "Current word: MOZAR___A\n"
     ]
    },
    {
     "name": "stdin",
     "output_type": "stream",
     "text": [
      "Enter a letter to guess the word:  l\n"
     ]
    },
    {
     "name": "stdout",
     "output_type": "stream",
     "text": [
      "You have 0 chances left.\n",
      "Current word: MOZAR_LLA\n",
      "Sorry, you ran out of chances. The word was: MOZARELLA\n"
     ]
    }
   ],
   "source": [
    "data = 'MOZARELLA'\n",
    "\n",
    "def user_guess():\n",
    "    global data\n",
    "    user_data = ['_'] * len(data)  # Initialize user_data as underscores\n",
    "    wrong_guesses = []  # Track wrong guesses\n",
    "    chances = len(data)\n",
    "    print('Length of word is: {}'.format(chances))\n",
    "    \n",
    "    while chances > 0 and '_' in user_data:  # Keep playing until no chances or word is fully guessed\n",
    "        user_input = input('Enter a letter to guess the word: ').upper()\n",
    "\n",
    "        if user_input in data:\n",
    "            for i in range(len(data)):\n",
    "                if data[i] == user_input:\n",
    "                    user_data[i] = user_input  # Replace underscore with the correct guess\n",
    "        else:\n",
    "            if user_input not in wrong_guesses:  # Only record wrong guess once\n",
    "                wrong_guesses.append(user_input)\n",
    "                chances -= 1  # Reduce chances for wrong guess\n",
    "                print('Wrong Guess: {}'.format(wrong_guesses))\n",
    "            \n",
    "        print('You have {} chances left.'.format(chances))\n",
    "        print('Current word: ' + \"\".join(user_data))  # Print the result as a string\n",
    "    \n",
    "    if '_' not in user_data:\n",
    "        print('Congratulations! You guessed the word correctly!')\n",
    "    else:\n",
    "        print('Sorry, you ran out of chances. The word was: {}'.format(data))\n",
    "\n",
    "\n",
    "def play_loop():\n",
    "    global play_game\n",
    "    play_game = input(\"Do You want to play again? y = yes, n = no \\n\")\n",
    "    while play_game not in [\"y\", \"n\",\"Y\",\"N\"]:\n",
    "        play_game = input(\"Do You want to play again? y = yes, n = no \\n\")\n",
    "    if play_game == \"y\":\n",
    "        user_guess()\n",
    "    elif play_game == \"n\":\n",
    "        print(\"Thanks For Playing! We expect you back again!\")\n",
    "        exit()\n",
    "\n",
    "play_loop()"
   ]
  },
  {
   "cell_type": "code",
   "execution_count": null,
   "id": "bcd78d75-4cec-4077-87f1-198f2967c1eb",
   "metadata": {},
   "outputs": [],
   "source": []
  }
 ],
 "metadata": {
  "kernelspec": {
   "display_name": "Python 3 (ipykernel)",
   "language": "python",
   "name": "python3"
  },
  "language_info": {
   "codemirror_mode": {
    "name": "ipython",
    "version": 3
   },
   "file_extension": ".py",
   "mimetype": "text/x-python",
   "name": "python",
   "nbconvert_exporter": "python",
   "pygments_lexer": "ipython3",
   "version": "3.12.1"
  }
 },
 "nbformat": 4,
 "nbformat_minor": 5
}
