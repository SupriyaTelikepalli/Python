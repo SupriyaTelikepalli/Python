{
 "cells": [
  {
   "cell_type": "code",
   "execution_count": null,
   "id": "2e5a6d98-fad6-4240-a14c-1bb2ef1e61fd",
   "metadata": {},
   "outputs": [
    {
     "name": "stdin",
     "output_type": "stream",
     "text": [
      "Do you want to play game(y or n): y\n",
      "Enter your choice : scissor\n"
     ]
    },
    {
     "name": "stdout",
     "output_type": "stream",
     "text": [
      "User won\n",
      "Computer choice:paper,User choice:scissor\n"
     ]
    }
   ],
   "source": [
    "from random import choice\n",
    "game_choice = ['rock','paper','scissor']\n",
    "computer_choice = choice(game_choice)\n",
    "play = True\n",
    "while play==True:\n",
    "    play_game = input('Do you want to play game(y or n):')\n",
    "    if play_game == 'y':\n",
    "        user_input = input('Enter your choice :')\n",
    "        if user_input == computer_choice:\n",
    "            print('Tie Game')\n",
    "        else:\n",
    "            if user_input == 'paper' and computer_choice =='rock' or user_input =='scissor' and  computer_choice =='paper' or user_input =='rock' and  computer_choice =='scissor':\n",
    "                print('User won')\n",
    "                print('Computer choice:{},User choice:{}'.format(computer_choice,user_input))\n",
    "            elif user_input == 'paper' and computer_choice =='scissor' or user_input =='scissor' and  computer_choice =='rock' or user_input =='rock' and  computer_choice =='paper':\n",
    "                print('Computer won')\n",
    "            \n",
    "    elif play_game == 'n':\n",
    "        break\n",
    "print('Thanks For Playing! We expect you back again!')"
   ]
  },
  {
   "cell_type": "code",
   "execution_count": null,
   "id": "5902104c-44f0-4974-9ba2-bd5660a903da",
   "metadata": {},
   "outputs": [],
   "source": []
  }
 ],
 "metadata": {
  "kernelspec": {
   "display_name": "Python 3 (ipykernel)",
   "language": "python",
   "name": "python3"
  },
  "language_info": {
   "codemirror_mode": {
    "name": "ipython",
    "version": 3
   },
   "file_extension": ".py",
   "mimetype": "text/x-python",
   "name": "python",
   "nbconvert_exporter": "python",
   "pygments_lexer": "ipython3",
   "version": "3.12.1"
  }
 },
 "nbformat": 4,
 "nbformat_minor": 5
}
