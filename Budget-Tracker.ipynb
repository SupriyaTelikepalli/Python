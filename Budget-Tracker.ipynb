{
 "cells": [
  {
   "cell_type": "code",
   "execution_count": 42,
   "id": "b3a5020e-9276-40b0-abd0-207b971ecf68",
   "metadata": {},
   "outputs": [
    {
     "name": "stdout",
     "output_type": "stream",
     "text": [
      "Welcome to the Budget App\n"
     ]
    },
    {
     "name": "stdin",
     "output_type": "stream",
     "text": [
      "Enter user name: sara\n",
      "Enter your income: 1000\n",
      "Enter your savings: 670\n"
     ]
    },
    {
     "name": "stdout",
     "output_type": "stream",
     "text": [
      "What would you like to do ?\n",
      "1. Add an expense\n",
      "2. Show budget details\n",
      "3. Add Savings\n",
      "4. Exit\n"
     ]
    },
    {
     "name": "stdin",
     "output_type": "stream",
     "text": [
      "Enter your choice (1/2/3/4):  4\n"
     ]
    },
    {
     "name": "stdout",
     "output_type": "stream",
     "text": [
      "Thanks for choosing budget app! Hope to see you soon!!\n"
     ]
    }
   ],
   "source": [
    "class Budget:\n",
    "    def __init__(self,name,income,savings):\n",
    "        self.income = income\n",
    "        self.savings = savings\n",
    "        self.expense = 0\n",
    "        self.expenses_list = {}\n",
    "        self.amount_left = 0\n",
    "    \n",
    "    def expenditure(self):\n",
    "        expense_description = input('Enter expense description: ')\n",
    "        expense_amount = input('Enter expense amount: ')\n",
    "        self.expenses_list[expense_description] = expense_amount\n",
    "        self.expense += int(expense_amount)\n",
    "        print(f'Added new expense: {expense_description}, Amount: {expense_amount}')\n",
    "\n",
    "    def budget_details(self):\n",
    "        print('Total Budget: {}'.format(self.income))\n",
    "        print('Expenses:')\n",
    "        for description, amount in self.expenses_list.items():\n",
    "            print(f'- {description}: {amount}')\n",
    "        \n",
    "        # Convert expense amounts to integers for sum calculation\n",
    "        total_spent = sum(int(amount) for amount in self.expenses_list.values())\n",
    "        self.amount_left = self.income - total_spent - self.savings\n",
    "        print('Total spent: {}'.format(total_spent))\n",
    "        print('Savings: {}'.format(self.savings))\n",
    "        print(f'Amount left for luxuries: {self.amount_left}')\n",
    "\n",
    "    def saving_details(self):\n",
    "        savings_amount = int(input('Enter amount to add to savings: '))\n",
    "    \n",
    "    # Scenario 1: Check if savings amount is more than the amount left for luxuries\n",
    "        if savings_amount > self.amount_left:\n",
    "            print(f'Not enough funds to add {savings_amount} to savings. You only have {self.amount_left} left.')\n",
    "    # Scenario 2: Check if the total savings would exceed the total income\n",
    "        elif (self.savings + savings_amount) > self.income:\n",
    "            print(f'Cannot save {savings_amount}, as total savings would exceed your income of {self.income}.')\n",
    "        else:\n",
    "            self.savings += savings_amount\n",
    "            self.amount_left -= savings_amount\n",
    "            print(f'Amount {savings_amount} added to savings. Current savings: {self.savings}. Amount left: {self.amount_left}')\n",
    "\n",
    "        \n",
    "\n",
    "print('Welcome to the Budget App')\n",
    "\n",
    "#object\n",
    "name = input('Enter user name:')\n",
    "income = int(input('Enter your income:'))\n",
    "savings = int(input('Enter your savings:'))\n",
    "budget = Budget(name,income,savings)\n",
    "while True:\n",
    "    print('What would you like to do ?')\n",
    "    print('1. Add an expense')\n",
    "    print('2. Show budget details')\n",
    "    print('3. Add Savings')\n",
    "    print('4. Exit')\n",
    "    choice = int(input('Enter your choice (1/2/3/4): '))\n",
    "    if choice == 1:\n",
    "        budget.expenditure()\n",
    "    elif choice == 2:\n",
    "        budget.budget_details()\n",
    "    elif choice ==3:\n",
    "        budget.save()\n",
    "    elif choice ==4:\n",
    "        break\n",
    "    else:\n",
    "        print('Choice does not exist, Please choose from below list')\n",
    "print('Thanks for choosing budget app! Hope to see you soon!!')"
   ]
  },
  {
   "cell_type": "code",
   "execution_count": null,
   "id": "e63de2f5-35b2-4e5c-81b8-e78a2637e569",
   "metadata": {},
   "outputs": [],
   "source": []
  }
 ],
 "metadata": {
  "kernelspec": {
   "display_name": "Python 3 (ipykernel)",
   "language": "python",
   "name": "python3"
  },
  "language_info": {
   "codemirror_mode": {
    "name": "ipython",
    "version": 3
   },
   "file_extension": ".py",
   "mimetype": "text/x-python",
   "name": "python",
   "nbconvert_exporter": "python",
   "pygments_lexer": "ipython3",
   "version": "3.12.1"
  }
 },
 "nbformat": 4,
 "nbformat_minor": 5
}
